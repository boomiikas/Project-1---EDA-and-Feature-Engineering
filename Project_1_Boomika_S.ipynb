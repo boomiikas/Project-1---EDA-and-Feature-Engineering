{
  "cells": [
    {
      "cell_type": "markdown",
      "metadata": {
        "id": "Jea0ccasOOd7"
      },
      "source": [
        "# **PART 1 - Basic Data Understanding (Pandas)**"
      ]
    },
    {
      "cell_type": "markdown",
      "metadata": {
        "id": "uXi0sCZ6r9-d"
      },
      "source": [
        "Load the CSV file into a Pandas DataFrame."
      ]
    },
    {
      "cell_type": "code",
      "execution_count": 2,
      "metadata": {
        "colab": {
          "base_uri": "https://localhost:8080/"
        },
        "id": "Y4SsGbFINg6S",
        "outputId": "4b710314-cb08-47a2-d203-6296a585710f"
      },
      "outputs": [
        {
          "name": "stdout",
          "output_type": "stream",
          "text": [
            "<class 'pandas.core.frame.DataFrame'>\n",
            "RangeIndex: 100 entries, 0 to 99\n",
            "Data columns (total 3 columns):\n",
            " #   Column      Non-Null Count  Dtype \n",
            "---  ------      --------------  ----- \n",
            " 0   id          100 non-null    object\n",
            " 1   ID          100 non-null    int64 \n",
            " 2   First_Name  100 non-null    object\n",
            "dtypes: int64(1), object(2)\n",
            "memory usage: 2.5+ KB\n"
          ]
        }
      ],
      "source": [
        "import pandas as pd\n",
        "import numpy as np\n",
        "data=pd.read_csv('separated_names.csv')\n",
        "df=pd.DataFrame(data)\n",
        "numd=np.array(data)\n",
        "df.info()"
      ]
    },
    {
      "cell_type": "markdown",
      "metadata": {
        "id": "QU36V07ysDhF"
      },
      "source": [
        "Display the first 10 rows."
      ]
    },
    {
      "cell_type": "code",
      "execution_count": 3,
      "metadata": {
        "colab": {
          "base_uri": "https://localhost:8080/",
          "height": 363
        },
        "id": "LIo1kyouOHj9",
        "outputId": "901478dd-1d05-4eb4-9127-b83b1a99a862"
      },
      "outputs": [
        {
          "data": {
            "text/html": [
              "<div>\n",
              "<style scoped>\n",
              "    .dataframe tbody tr th:only-of-type {\n",
              "        vertical-align: middle;\n",
              "    }\n",
              "\n",
              "    .dataframe tbody tr th {\n",
              "        vertical-align: top;\n",
              "    }\n",
              "\n",
              "    .dataframe thead th {\n",
              "        text-align: right;\n",
              "    }\n",
              "</style>\n",
              "<table border=\"1\" class=\"dataframe\">\n",
              "  <thead>\n",
              "    <tr style=\"text-align: right;\">\n",
              "      <th></th>\n",
              "      <th>id</th>\n",
              "      <th>ID</th>\n",
              "      <th>First_Name</th>\n",
              "    </tr>\n",
              "  </thead>\n",
              "  <tbody>\n",
              "    <tr>\n",
              "      <th>0</th>\n",
              "      <td>12345Johnny</td>\n",
              "      <td>12345</td>\n",
              "      <td>Johnny</td>\n",
              "    </tr>\n",
              "    <tr>\n",
              "      <th>1</th>\n",
              "      <td>93829Sally</td>\n",
              "      <td>93829</td>\n",
              "      <td>Sally</td>\n",
              "    </tr>\n",
              "    <tr>\n",
              "      <th>2</th>\n",
              "      <td>20391Larry</td>\n",
              "      <td>20391</td>\n",
              "      <td>Larry</td>\n",
              "    </tr>\n",
              "    <tr>\n",
              "      <th>3</th>\n",
              "      <td>29324Valerie</td>\n",
              "      <td>29324</td>\n",
              "      <td>Valerie</td>\n",
              "    </tr>\n",
              "    <tr>\n",
              "      <th>4</th>\n",
              "      <td>43557Nina</td>\n",
              "      <td>43557</td>\n",
              "      <td>Nina</td>\n",
              "    </tr>\n",
              "    <tr>\n",
              "      <th>5</th>\n",
              "      <td>55027Bob</td>\n",
              "      <td>55027</td>\n",
              "      <td>Bob</td>\n",
              "    </tr>\n",
              "    <tr>\n",
              "      <th>6</th>\n",
              "      <td>78551Julia</td>\n",
              "      <td>78551</td>\n",
              "      <td>Julia</td>\n",
              "    </tr>\n",
              "    <tr>\n",
              "      <th>7</th>\n",
              "      <td>77268Nina</td>\n",
              "      <td>77268</td>\n",
              "      <td>Nina</td>\n",
              "    </tr>\n",
              "    <tr>\n",
              "      <th>8</th>\n",
              "      <td>19876Xander</td>\n",
              "      <td>19876</td>\n",
              "      <td>Xander</td>\n",
              "    </tr>\n",
              "    <tr>\n",
              "      <th>9</th>\n",
              "      <td>28290Fiona</td>\n",
              "      <td>28290</td>\n",
              "      <td>Fiona</td>\n",
              "    </tr>\n",
              "  </tbody>\n",
              "</table>\n",
              "</div>"
            ],
            "text/plain": [
              "             id     ID First_Name\n",
              "0   12345Johnny  12345     Johnny\n",
              "1    93829Sally  93829      Sally\n",
              "2    20391Larry  20391      Larry\n",
              "3  29324Valerie  29324    Valerie\n",
              "4     43557Nina  43557       Nina\n",
              "5      55027Bob  55027        Bob\n",
              "6    78551Julia  78551      Julia\n",
              "7     77268Nina  77268       Nina\n",
              "8   19876Xander  19876     Xander\n",
              "9    28290Fiona  28290      Fiona"
            ]
          },
          "execution_count": 3,
          "metadata": {},
          "output_type": "execute_result"
        }
      ],
      "source": [
        "df.head(10)"
      ]
    },
    {
      "cell_type": "markdown",
      "metadata": {
        "id": "OD68HkSiu32Q"
      },
      "source": [
        "Show shape, column names, and data types."
      ]
    },
    {
      "cell_type": "code",
      "execution_count": 4,
      "metadata": {
        "colab": {
          "base_uri": "https://localhost:8080/"
        },
        "id": "6KSejuh3OThg",
        "outputId": "5c11a3a3-75ce-4ebf-8278-e66175ff49cd"
      },
      "outputs": [
        {
          "data": {
            "text/plain": [
              "(100, 3)"
            ]
          },
          "execution_count": 4,
          "metadata": {},
          "output_type": "execute_result"
        }
      ],
      "source": [
        "df.shape"
      ]
    },
    {
      "cell_type": "code",
      "execution_count": 5,
      "metadata": {
        "colab": {
          "base_uri": "https://localhost:8080/"
        },
        "id": "6GTYIbcfOWew",
        "outputId": "71cfc22e-ae75-4de1-9b36-bd1aea4d2a7d"
      },
      "outputs": [
        {
          "data": {
            "text/plain": [
              "Index(['id', 'ID', 'First_Name'], dtype='object')"
            ]
          },
          "execution_count": 5,
          "metadata": {},
          "output_type": "execute_result"
        }
      ],
      "source": [
        "df.columns"
      ]
    },
    {
      "cell_type": "code",
      "execution_count": 6,
      "metadata": {
        "colab": {
          "base_uri": "https://localhost:8080/"
        },
        "id": "zjmPfnyFOaIt",
        "outputId": "1f3f02aa-6c8f-4e24-abd3-23c41cd0e825"
      },
      "outputs": [
        {
          "data": {
            "text/plain": [
              "dtype('O')"
            ]
          },
          "execution_count": 6,
          "metadata": {},
          "output_type": "execute_result"
        }
      ],
      "source": [
        "numd.dtype"
      ]
    },
    {
      "cell_type": "markdown",
      "metadata": {
        "id": "jB93c3Leu8bo"
      },
      "source": [
        "Check for missing values and duplicates."
      ]
    },
    {
      "cell_type": "code",
      "execution_count": 7,
      "metadata": {
        "colab": {
          "base_uri": "https://localhost:8080/"
        },
        "id": "CCp8cyAYPV6F",
        "outputId": "2c382de8-dfdb-4781-f332-93c54734d069"
      },
      "outputs": [
        {
          "name": "stdout",
          "output_type": "stream",
          "text": [
            "id            0\n",
            "ID            0\n",
            "First_Name    0\n",
            "dtype: int64\n"
          ]
        }
      ],
      "source": [
        "print(df.isnull().sum())#missing values\n"
      ]
    },
    {
      "cell_type": "code",
      "execution_count": 8,
      "metadata": {
        "colab": {
          "base_uri": "https://localhost:8080/"
        },
        "id": "Dbw2xLgRMzD-",
        "outputId": "10e14840-fc0a-4a3f-d3ab-549b2cc1b7b4"
      },
      "outputs": [
        {
          "name": "stdout",
          "output_type": "stream",
          "text": [
            "Empty DataFrame\n",
            "Columns: [id, ID, First_Name]\n",
            "Index: []\n"
          ]
        }
      ],
      "source": [
        "print(df[df.duplicated()])#checking duplicate rows"
      ]
    },
    {
      "cell_type": "markdown",
      "metadata": {
        "id": "kfRNv1K7vAG8"
      },
      "source": [
        "Use .describe() to get summary statistics for ID (numeric) and First_Name (categorical)."
      ]
    },
    {
      "cell_type": "code",
      "execution_count": 9,
      "metadata": {
        "colab": {
          "base_uri": "https://localhost:8080/",
          "height": 394
        },
        "id": "7x6O05G_Oxbj",
        "outputId": "a5c1b944-de89-4378-9254-d81f4f3a6118"
      },
      "outputs": [
        {
          "data": {
            "text/html": [
              "<div>\n",
              "<style scoped>\n",
              "    .dataframe tbody tr th:only-of-type {\n",
              "        vertical-align: middle;\n",
              "    }\n",
              "\n",
              "    .dataframe tbody tr th {\n",
              "        vertical-align: top;\n",
              "    }\n",
              "\n",
              "    .dataframe thead th {\n",
              "        text-align: right;\n",
              "    }\n",
              "</style>\n",
              "<table border=\"1\" class=\"dataframe\">\n",
              "  <thead>\n",
              "    <tr style=\"text-align: right;\">\n",
              "      <th></th>\n",
              "      <th>ID</th>\n",
              "      <th>First_Name</th>\n",
              "    </tr>\n",
              "  </thead>\n",
              "  <tbody>\n",
              "    <tr>\n",
              "      <th>count</th>\n",
              "      <td>100.000000</td>\n",
              "      <td>100</td>\n",
              "    </tr>\n",
              "    <tr>\n",
              "      <th>unique</th>\n",
              "      <td>NaN</td>\n",
              "      <td>28</td>\n",
              "    </tr>\n",
              "    <tr>\n",
              "      <th>top</th>\n",
              "      <td>NaN</td>\n",
              "      <td>Sophia</td>\n",
              "    </tr>\n",
              "    <tr>\n",
              "      <th>freq</th>\n",
              "      <td>NaN</td>\n",
              "      <td>8</td>\n",
              "    </tr>\n",
              "    <tr>\n",
              "      <th>mean</th>\n",
              "      <td>50694.190000</td>\n",
              "      <td>NaN</td>\n",
              "    </tr>\n",
              "    <tr>\n",
              "      <th>std</th>\n",
              "      <td>26500.870402</td>\n",
              "      <td>NaN</td>\n",
              "    </tr>\n",
              "    <tr>\n",
              "      <th>min</th>\n",
              "      <td>11314.000000</td>\n",
              "      <td>NaN</td>\n",
              "    </tr>\n",
              "    <tr>\n",
              "      <th>25%</th>\n",
              "      <td>26643.500000</td>\n",
              "      <td>NaN</td>\n",
              "    </tr>\n",
              "    <tr>\n",
              "      <th>50%</th>\n",
              "      <td>44728.000000</td>\n",
              "      <td>NaN</td>\n",
              "    </tr>\n",
              "    <tr>\n",
              "      <th>75%</th>\n",
              "      <td>74815.000000</td>\n",
              "      <td>NaN</td>\n",
              "    </tr>\n",
              "    <tr>\n",
              "      <th>max</th>\n",
              "      <td>95807.000000</td>\n",
              "      <td>NaN</td>\n",
              "    </tr>\n",
              "  </tbody>\n",
              "</table>\n",
              "</div>"
            ],
            "text/plain": [
              "                  ID First_Name\n",
              "count     100.000000        100\n",
              "unique           NaN         28\n",
              "top              NaN     Sophia\n",
              "freq             NaN          8\n",
              "mean    50694.190000        NaN\n",
              "std     26500.870402        NaN\n",
              "min     11314.000000        NaN\n",
              "25%     26643.500000        NaN\n",
              "50%     44728.000000        NaN\n",
              "75%     74815.000000        NaN\n",
              "max     95807.000000        NaN"
            ]
          },
          "execution_count": 9,
          "metadata": {},
          "output_type": "execute_result"
        }
      ],
      "source": [
        "df[['ID','First_Name']].describe(include='all')"
      ]
    },
    {
      "cell_type": "markdown",
      "metadata": {
        "id": "4wXKsJ_YPX5U"
      },
      "source": [
        "# **PART 2 - Data Cleaning**"
      ]
    },
    {
      "cell_type": "markdown",
      "metadata": {
        "id": "CAXsJqNxwsEk"
      },
      "source": [
        "Split id into two new columns: ID (first 5 chars) and First_Name (remaining chars).\n"
      ]
    },
    {
      "cell_type": "code",
      "execution_count": 10,
      "metadata": {
        "id": "IeQh1hF0QgWH"
      },
      "outputs": [],
      "source": [
        "df['ID'] = df['id'].str[:5]\n",
        "df['First_Name'] = df['id'].str[5:]"
      ]
    },
    {
      "cell_type": "markdown",
      "metadata": {
        "id": "fDduK9tCwuc-"
      },
      "source": [
        "Ensure ID is stored as an integer and First_Name as a string.\n"
      ]
    },
    {
      "cell_type": "code",
      "execution_count": 11,
      "metadata": {
        "colab": {
          "base_uri": "https://localhost:8080/"
        },
        "id": "jTw31zPJQo5U",
        "outputId": "cb0bb648-8da0-4017-e0d5-1c088b158dd5"
      },
      "outputs": [
        {
          "name": "stdout",
          "output_type": "stream",
          "text": [
            "<class 'pandas.core.frame.DataFrame'>\n",
            "RangeIndex: 100 entries, 0 to 99\n",
            "Data columns (total 3 columns):\n",
            " #   Column      Non-Null Count  Dtype \n",
            "---  ------      --------------  ----- \n",
            " 0   id          100 non-null    object\n",
            " 1   ID          100 non-null    int64 \n",
            " 2   First_Name  100 non-null    object\n",
            "dtypes: int64(1), object(2)\n",
            "memory usage: 2.5+ KB\n"
          ]
        }
      ],
      "source": [
        "df['ID']=df['ID'].astype('int64')\n",
        "df.info()"
      ]
    },
    {
      "cell_type": "markdown",
      "metadata": {
        "id": "EqMgptA8wz8v"
      },
      "source": [
        "Remove any extra spaces in names.\n"
      ]
    },
    {
      "cell_type": "code",
      "execution_count": 12,
      "metadata": {
        "id": "Ocy_FSALRmnL"
      },
      "outputs": [],
      "source": [
        "df['First_Name']=df['First_Name'].str.replace(' ','')"
      ]
    },
    {
      "cell_type": "markdown",
      "metadata": {
        "id": "MRQ7W-BgxGFr"
      },
      "source": [
        "\n",
        "\n",
        "Standardize first names to title case.\n"
      ]
    },
    {
      "cell_type": "code",
      "execution_count": 13,
      "metadata": {
        "colab": {
          "base_uri": "https://localhost:8080/",
          "height": 458
        },
        "id": "umNMoi87RKBS",
        "outputId": "63d62290-3272-4082-98a1-e2827a0b5080"
      },
      "outputs": [
        {
          "data": {
            "text/plain": [
              "0      Johnny\n",
              "1       Sally\n",
              "2       Larry\n",
              "3     Valerie\n",
              "4        Nina\n",
              "       ...   \n",
              "95        Ian\n",
              "96      Alice\n",
              "97      Laura\n",
              "98        Uma\n",
              "99    Charlie\n",
              "Name: First_Name, Length: 100, dtype: object"
            ]
          },
          "execution_count": 13,
          "metadata": {},
          "output_type": "execute_result"
        }
      ],
      "source": [
        "df['First_Name'] = df['First_Name'].str.title()\n",
        "df['First_Name']"
      ]
    },
    {
      "cell_type": "markdown",
      "metadata": {
        "id": "PwVpw2BvxJ7L"
      },
      "source": [
        "\n",
        "\n",
        "Verify uniqueness of ID."
      ]
    },
    {
      "cell_type": "code",
      "execution_count": 14,
      "metadata": {
        "colab": {
          "base_uri": "https://localhost:8080/"
        },
        "id": "zvjJV4EjPaLo",
        "outputId": "d2e4bcb3-83d2-4a5e-a30c-ca9b6c1f3207"
      },
      "outputs": [
        {
          "data": {
            "text/plain": [
              "array([12345, 93829, 20391, 29324, 43557, 55027, 78551, 77268, 19876,\n",
              "       28290, 38891, 11314, 90356, 79572, 25714, 31814, 34134, 47654,\n",
              "       31444, 27526, 15289, 87317, 87475, 18330, 18997, 20241, 82672,\n",
              "       14287, 92041, 70721, 17534, 95807, 92910, 36356, 15126, 58082,\n",
              "       72449, 61780, 45533, 42135, 81543, 26645, 53289, 73652, 66364,\n",
              "       90098, 46820, 90373, 62364, 74911, 24430, 39956, 13595, 66314,\n",
              "       36524, 81662, 46408, 22471, 81780, 82129, 22185, 63310, 60429,\n",
              "       60587, 32824, 26639, 65258, 36836, 42970, 32561, 25194, 65262,\n",
              "       88577, 89466, 17560, 41388, 27462, 17323, 25017, 39287, 40150,\n",
              "       22342, 71095, 58223, 92725, 16073, 36862, 87883, 74783, 85445,\n",
              "       43923, 89694, 49910, 42831, 68514, 58388, 43026, 12962, 94063,\n",
              "       17105])"
            ]
          },
          "execution_count": 14,
          "metadata": {},
          "output_type": "execute_result"
        }
      ],
      "source": [
        "df['ID'].unique()"
      ]
    },
    {
      "cell_type": "markdown",
      "metadata": {
        "id": "IPECD8AeR-Go"
      },
      "source": [
        "# **PART 3 - Exploratory Data Analysis (EDA)**"
      ]
    },
    {
      "cell_type": "markdown",
      "metadata": {
        "id": "_GVOgNB4xL2E"
      },
      "source": [
        "Find the most common first name.\n",
        "\n"
      ]
    },
    {
      "cell_type": "code",
      "execution_count": 15,
      "metadata": {
        "colab": {
          "base_uri": "https://localhost:8080/"
        },
        "id": "EJz-JMTGSz7O",
        "outputId": "b789f437-13ff-4141-8eff-36ec04190826"
      },
      "outputs": [
        {
          "name": "stdout",
          "output_type": "stream",
          "text": [
            "Most common name:\n",
            " First_Name\n",
            "Sophia    8\n",
            "Name: count, dtype: int64\n"
          ]
        }
      ],
      "source": [
        "name=df['First_Name'].value_counts()\n",
        "#print(name)\n",
        "print(\"Most common name:\\n\",name.head(1))"
      ]
    },
    {
      "cell_type": "markdown",
      "metadata": {
        "id": "D6JDWogxxRAh"
      },
      "source": [
        "\n",
        "\n",
        "Count how many unique first names there are.\n"
      ]
    },
    {
      "cell_type": "code",
      "execution_count": 16,
      "metadata": {
        "colab": {
          "base_uri": "https://localhost:8080/"
        },
        "id": "gsJdRJEPSczp",
        "outputId": "be2dd7d8-e8f7-4494-db60-d616af34fa93"
      },
      "outputs": [
        {
          "data": {
            "text/plain": [
              "28"
            ]
          },
          "execution_count": 16,
          "metadata": {},
          "output_type": "execute_result"
        }
      ],
      "source": [
        "df['First_Name'].nunique() #  unique first names there are."
      ]
    },
    {
      "cell_type": "markdown",
      "metadata": {
        "id": "z7VDM9PDxTMn"
      },
      "source": [
        "\n",
        "\n",
        "Find the top 5 IDs (numerically largest).\n"
      ]
    },
    {
      "cell_type": "code",
      "execution_count": 17,
      "metadata": {
        "colab": {
          "base_uri": "https://localhost:8080/",
          "height": 237
        },
        "id": "Sy0u1GhGRzlY",
        "outputId": "245fb759-5b74-4b3c-d99e-84c8a4ed027c"
      },
      "outputs": [
        {
          "data": {
            "text/html": [
              "<div>\n",
              "<style scoped>\n",
              "    .dataframe tbody tr th:only-of-type {\n",
              "        vertical-align: middle;\n",
              "    }\n",
              "\n",
              "    .dataframe tbody tr th {\n",
              "        vertical-align: top;\n",
              "    }\n",
              "\n",
              "    .dataframe thead th {\n",
              "        text-align: right;\n",
              "    }\n",
              "</style>\n",
              "<table border=\"1\" class=\"dataframe\">\n",
              "  <thead>\n",
              "    <tr style=\"text-align: right;\">\n",
              "      <th></th>\n",
              "      <th>id</th>\n",
              "      <th>ID</th>\n",
              "      <th>First_Name</th>\n",
              "    </tr>\n",
              "  </thead>\n",
              "  <tbody>\n",
              "    <tr>\n",
              "      <th>31</th>\n",
              "      <td>95807Xander</td>\n",
              "      <td>95807</td>\n",
              "      <td>Xander</td>\n",
              "    </tr>\n",
              "    <tr>\n",
              "      <th>98</th>\n",
              "      <td>94063Uma</td>\n",
              "      <td>94063</td>\n",
              "      <td>Uma</td>\n",
              "    </tr>\n",
              "    <tr>\n",
              "      <th>1</th>\n",
              "      <td>93829Sally</td>\n",
              "      <td>93829</td>\n",
              "      <td>Sally</td>\n",
              "    </tr>\n",
              "    <tr>\n",
              "      <th>32</th>\n",
              "      <td>92910Sophia</td>\n",
              "      <td>92910</td>\n",
              "      <td>Sophia</td>\n",
              "    </tr>\n",
              "    <tr>\n",
              "      <th>84</th>\n",
              "      <td>92725Nina</td>\n",
              "      <td>92725</td>\n",
              "      <td>Nina</td>\n",
              "    </tr>\n",
              "    <tr>\n",
              "      <th>28</th>\n",
              "      <td>92041Sophia</td>\n",
              "      <td>92041</td>\n",
              "      <td>Sophia</td>\n",
              "    </tr>\n",
              "  </tbody>\n",
              "</table>\n",
              "</div>"
            ],
            "text/plain": [
              "             id     ID First_Name\n",
              "31  95807Xander  95807     Xander\n",
              "98     94063Uma  94063        Uma\n",
              "1    93829Sally  93829      Sally\n",
              "32  92910Sophia  92910     Sophia\n",
              "84    92725Nina  92725       Nina\n",
              "28  92041Sophia  92041     Sophia"
            ]
          },
          "execution_count": 17,
          "metadata": {},
          "output_type": "execute_result"
        }
      ],
      "source": [
        "a=df.sort_values(by='ID',ascending=False)\n",
        "a.head(6)"
      ]
    },
    {
      "cell_type": "markdown",
      "metadata": {
        "id": "QUs-K2xsxVkh"
      },
      "source": [
        "\n",
        "\n",
        "Find the bottom 5 IDs (numerically smallest)."
      ]
    },
    {
      "cell_type": "code",
      "execution_count": 18,
      "metadata": {
        "colab": {
          "base_uri": "https://localhost:8080/",
          "height": 237
        },
        "id": "0RHmx5TRSXg-",
        "outputId": "84036c65-0e49-42cd-9edc-54e23ade1c12"
      },
      "outputs": [
        {
          "data": {
            "text/html": [
              "<div>\n",
              "<style scoped>\n",
              "    .dataframe tbody tr th:only-of-type {\n",
              "        vertical-align: middle;\n",
              "    }\n",
              "\n",
              "    .dataframe tbody tr th {\n",
              "        vertical-align: top;\n",
              "    }\n",
              "\n",
              "    .dataframe thead th {\n",
              "        text-align: right;\n",
              "    }\n",
              "</style>\n",
              "<table border=\"1\" class=\"dataframe\">\n",
              "  <thead>\n",
              "    <tr style=\"text-align: right;\">\n",
              "      <th></th>\n",
              "      <th>id</th>\n",
              "      <th>ID</th>\n",
              "      <th>First_Name</th>\n",
              "    </tr>\n",
              "  </thead>\n",
              "  <tbody>\n",
              "    <tr>\n",
              "      <th>34</th>\n",
              "      <td>15126Ian</td>\n",
              "      <td>15126</td>\n",
              "      <td>Ian</td>\n",
              "    </tr>\n",
              "    <tr>\n",
              "      <th>27</th>\n",
              "      <td>14287Kevin</td>\n",
              "      <td>14287</td>\n",
              "      <td>Kevin</td>\n",
              "    </tr>\n",
              "    <tr>\n",
              "      <th>52</th>\n",
              "      <td>13595Uma</td>\n",
              "      <td>13595</td>\n",
              "      <td>Uma</td>\n",
              "    </tr>\n",
              "    <tr>\n",
              "      <th>97</th>\n",
              "      <td>12962Laura</td>\n",
              "      <td>12962</td>\n",
              "      <td>Laura</td>\n",
              "    </tr>\n",
              "    <tr>\n",
              "      <th>0</th>\n",
              "      <td>12345Johnny</td>\n",
              "      <td>12345</td>\n",
              "      <td>Johnny</td>\n",
              "    </tr>\n",
              "    <tr>\n",
              "      <th>11</th>\n",
              "      <td>11314Sophia</td>\n",
              "      <td>11314</td>\n",
              "      <td>Sophia</td>\n",
              "    </tr>\n",
              "  </tbody>\n",
              "</table>\n",
              "</div>"
            ],
            "text/plain": [
              "             id     ID First_Name\n",
              "34     15126Ian  15126        Ian\n",
              "27   14287Kevin  14287      Kevin\n",
              "52     13595Uma  13595        Uma\n",
              "97   12962Laura  12962      Laura\n",
              "0   12345Johnny  12345     Johnny\n",
              "11  11314Sophia  11314     Sophia"
            ]
          },
          "execution_count": 18,
          "metadata": {},
          "output_type": "execute_result"
        }
      ],
      "source": [
        "a=df.sort_values(by='ID',ascending=False)\n",
        "a.tail(6)"
      ]
    },
    {
      "cell_type": "markdown",
      "metadata": {
        "id": "DFHw415LxYgw"
      },
      "source": [
        "\n",
        "\n",
        "Plot a bar chart of the top 10 most frequent first names."
      ]
    },
    {
      "cell_type": "code",
      "execution_count": 19,
      "metadata": {
        "colab": {
          "base_uri": "https://localhost:8080/",
          "height": 603
        },
        "id": "GfsZ-6cvT4Ql",
        "outputId": "f5fbd1ac-caf5-434a-f5a1-509396686916"
      },
      "outputs": [
        {
          "data": {
            "image/png": "[encoded data removed]",
            "text/plain": [
              "<Figure size 1000x600 with 1 Axes>"
            ]
          },
          "metadata": {},
          "output_type": "display_data"
        }
      ],
      "source": [
        "import matplotlib.pyplot as plt\n",
        "name_counts = df['First_Name'].value_counts().head(10)\n",
        "plt.figure(figsize=(10, 6))\n",
        "plt.bar(name_counts.index, name_counts.values, color='skyblue',edgecolor='black')\n",
        "plt.xticks(rotation=90)\n",
        "plt.xlabel('First Name')\n",
        "plt.ylabel('Count')\n",
        "plt.title('Most Common First Name')\n",
        "plt.xticks(rotation=90)\n",
        "plt.show()"
      ]
    },
    {
      "cell_type": "markdown",
      "metadata": {
        "id": "Hlel7w5IVOeO"
      },
      "source": [
        "# **PART 4 - Statistics**"
      ]
    },
    {
      "cell_type": "markdown",
      "metadata": {
        "id": "GtAtN3_NxaLY"
      },
      "source": [
        "Calculate mean, median, variance, and standard deviation of ID.\n"
      ]
    },
    {
      "cell_type": "code",
      "execution_count": 20,
      "metadata": {
        "colab": {
          "base_uri": "https://localhost:8080/"
        },
        "id": "HLUuAn5bVRMd",
        "outputId": "8819cf08-a4f2-494f-d4cd-1f633f2718dc"
      },
      "outputs": [
        {
          "name": "stdout",
          "output_type": "stream",
          "text": [
            "Mean : 50694.19\n",
            "Median : 44728.0\n",
            "Variance : 702296132.07\n",
            "Standard deviation : 26500.87\n"
          ]
        }
      ],
      "source": [
        "print(\"Mean :\",df['ID'].mean())\n",
        "print(\"Median :\",df['ID'].median())\n",
        "print(\"Variance :\",round(df['ID'].var(),2))\n",
        "print(\"Standard deviation :\",round(df['ID'].std(),2))\n"
      ]
    },
    {
      "cell_type": "markdown",
      "metadata": {
        "id": "xH_oG7h9xdtQ"
      },
      "source": [
        "\n",
        "\n",
        "Find the probability that ID > 50000.\n"
      ]
    },
    {
      "cell_type": "code",
      "execution_count": 21,
      "metadata": {
        "colab": {
          "base_uri": "https://localhost:8080/"
        },
        "id": "T1lmeMEiVz5x",
        "outputId": "808ef072-c341-4802-df4c-96dada6f64f3"
      },
      "outputs": [
        {
          "name": "stdout",
          "output_type": "stream",
          "text": [
            "Probability: 0.45\n"
          ]
        }
      ],
      "source": [
        "a=df[df['ID']>50000]\n",
        "b=df.shape[0]\n",
        "print(\"Probability:\",len(a)/b)"
      ]
    },
    {
      "cell_type": "markdown",
      "metadata": {
        "id": "1tA1ld2KxftW"
      },
      "source": [
        "\n",
        "\n",
        "Find the probability that a name starts with the letter 'A'."
      ]
    },
    {
      "cell_type": "code",
      "execution_count": 22,
      "metadata": {
        "colab": {
          "base_uri": "https://localhost:8080/"
        },
        "id": "8kP5pPY9WkZd",
        "outputId": "10b45671-1711-4458-bf12-2c1fc3960927"
      },
      "outputs": [
        {
          "name": "stdout",
          "output_type": "stream",
          "text": [
            "Probability: 0.04\n"
          ]
        }
      ],
      "source": [
        "a=df['First_Name'].str.startswith('A').sum()\n",
        "b=df.shape[0]\n",
        "print(\"Probability:\",a/b)"
      ]
    },
    {
      "cell_type": "markdown",
      "metadata": {
        "id": "1HpLjG-qxhlu"
      },
      "source": [
        "\n",
        "\n",
        "\n",
        "Find the percentage of names that have more than 5 letters.\n"
      ]
    },
    {
      "cell_type": "code",
      "execution_count": 23,
      "metadata": {
        "colab": {
          "base_uri": "https://localhost:8080/"
        },
        "id": "A5hoMRj1XvWp",
        "outputId": "d814dc8b-5040-4a4c-9516-7a9b733ac1f0"
      },
      "outputs": [
        {
          "name": "stdout",
          "output_type": "stream",
          "text": [
            "Percentage: 33.0\n"
          ]
        }
      ],
      "source": [
        "a=(df['First_Name'].str.len()>5).sum()\n",
        "b=df.shape[0]\n",
        "per=a*100/b\n",
        "print(\"Percentage:\",per)"
      ]
    },
    {
      "cell_type": "markdown",
      "metadata": {
        "id": "mOIYQ3hHYvfO"
      },
      "source": [
        "# **PART 5 - Linear Algebra & NumPy**"
      ]
    },
    {
      "cell_type": "markdown",
      "metadata": {
        "id": "WN8L5kJjxi1k"
      },
      "source": [
        "Convert the ID column into a NumPy array.\n",
        "\n",
        "\n",
        "\n",
        "\n"
      ]
    },
    {
      "cell_type": "code",
      "execution_count": 24,
      "metadata": {
        "colab": {
          "base_uri": "https://localhost:8080/"
        },
        "id": "yvJccsKGYyDD",
        "outputId": "af67b870-9340-4a9d-95d8-4f48d00ba07d"
      },
      "outputs": [
        {
          "data": {
            "text/plain": [
              "array([12345, 93829, 20391, 29324, 43557, 55027, 78551, 77268, 19876,\n",
              "       28290, 38891, 11314, 90356, 79572, 25714, 31814, 34134, 47654,\n",
              "       31444, 27526, 15289, 87317, 87475, 18330, 18997, 20241, 82672,\n",
              "       14287, 92041, 70721, 17534, 95807, 92910, 36356, 15126, 58082,\n",
              "       72449, 61780, 45533, 42135, 81543, 26645, 53289, 73652, 66364,\n",
              "       90098, 46820, 90373, 62364, 74911, 24430, 39956, 13595, 66314,\n",
              "       36524, 81662, 46408, 22471, 81780, 82129, 22185, 63310, 60429,\n",
              "       60587, 32824, 26639, 65258, 36836, 42970, 32561, 25194, 65262,\n",
              "       88577, 89466, 17560, 41388, 27462, 17323, 25017, 39287, 40150,\n",
              "       22342, 71095, 58223, 92725, 16073, 36862, 87883, 74783, 85445,\n",
              "       43923, 89694, 49910, 42831, 68514, 58388, 43026, 12962, 94063,\n",
              "       17105])"
            ]
          },
          "execution_count": 24,
          "metadata": {},
          "output_type": "execute_result"
        }
      ],
      "source": [
        "id_arr=np.array(df['ID'])\n",
        "id_arr"
      ]
    },
    {
      "cell_type": "markdown",
      "metadata": {
        "id": "WqocBE7AxnXQ"
      },
      "source": [
        "Create a random NumPy array of the same size for a “score” column.\n"
      ]
    },
    {
      "cell_type": "code",
      "execution_count": 25,
      "metadata": {
        "colab": {
          "base_uri": "https://localhost:8080/",
          "height": 423
        },
        "id": "gIAigOw5Y-p9",
        "outputId": "fcdce27c-173f-4dcf-cf42-7ce056bb011d"
      },
      "outputs": [
        {
          "data": {
            "text/html": [
              "<div>\n",
              "<style scoped>\n",
              "    .dataframe tbody tr th:only-of-type {\n",
              "        vertical-align: middle;\n",
              "    }\n",
              "\n",
              "    .dataframe tbody tr th {\n",
              "        vertical-align: top;\n",
              "    }\n",
              "\n",
              "    .dataframe thead th {\n",
              "        text-align: right;\n",
              "    }\n",
              "</style>\n",
              "<table border=\"1\" class=\"dataframe\">\n",
              "  <thead>\n",
              "    <tr style=\"text-align: right;\">\n",
              "      <th></th>\n",
              "      <th>id</th>\n",
              "      <th>ID</th>\n",
              "      <th>First_Name</th>\n",
              "      <th>score</th>\n",
              "    </tr>\n",
              "  </thead>\n",
              "  <tbody>\n",
              "    <tr>\n",
              "      <th>0</th>\n",
              "      <td>12345Johnny</td>\n",
              "      <td>12345</td>\n",
              "      <td>Johnny</td>\n",
              "      <td>29</td>\n",
              "    </tr>\n",
              "    <tr>\n",
              "      <th>1</th>\n",
              "      <td>93829Sally</td>\n",
              "      <td>93829</td>\n",
              "      <td>Sally</td>\n",
              "      <td>93</td>\n",
              "    </tr>\n",
              "    <tr>\n",
              "      <th>2</th>\n",
              "      <td>20391Larry</td>\n",
              "      <td>20391</td>\n",
              "      <td>Larry</td>\n",
              "      <td>95</td>\n",
              "    </tr>\n",
              "    <tr>\n",
              "      <th>3</th>\n",
              "      <td>29324Valerie</td>\n",
              "      <td>29324</td>\n",
              "      <td>Valerie</td>\n",
              "      <td>96</td>\n",
              "    </tr>\n",
              "    <tr>\n",
              "      <th>4</th>\n",
              "      <td>43557Nina</td>\n",
              "      <td>43557</td>\n",
              "      <td>Nina</td>\n",
              "      <td>49</td>\n",
              "    </tr>\n",
              "    <tr>\n",
              "      <th>...</th>\n",
              "      <td>...</td>\n",
              "      <td>...</td>\n",
              "      <td>...</td>\n",
              "      <td>...</td>\n",
              "    </tr>\n",
              "    <tr>\n",
              "      <th>95</th>\n",
              "      <td>58388Ian</td>\n",
              "      <td>58388</td>\n",
              "      <td>Ian</td>\n",
              "      <td>14</td>\n",
              "    </tr>\n",
              "    <tr>\n",
              "      <th>96</th>\n",
              "      <td>43026Alice</td>\n",
              "      <td>43026</td>\n",
              "      <td>Alice</td>\n",
              "      <td>59</td>\n",
              "    </tr>\n",
              "    <tr>\n",
              "      <th>97</th>\n",
              "      <td>12962Laura</td>\n",
              "      <td>12962</td>\n",
              "      <td>Laura</td>\n",
              "      <td>49</td>\n",
              "    </tr>\n",
              "    <tr>\n",
              "      <th>98</th>\n",
              "      <td>94063Uma</td>\n",
              "      <td>94063</td>\n",
              "      <td>Uma</td>\n",
              "      <td>6</td>\n",
              "    </tr>\n",
              "    <tr>\n",
              "      <th>99</th>\n",
              "      <td>17105Charlie</td>\n",
              "      <td>17105</td>\n",
              "      <td>Charlie</td>\n",
              "      <td>84</td>\n",
              "    </tr>\n",
              "  </tbody>\n",
              "</table>\n",
              "<p>100 rows × 4 columns</p>\n",
              "</div>"
            ],
            "text/plain": [
              "              id     ID First_Name  score\n",
              "0    12345Johnny  12345     Johnny     29\n",
              "1     93829Sally  93829      Sally     93\n",
              "2     20391Larry  20391      Larry     95\n",
              "3   29324Valerie  29324    Valerie     96\n",
              "4      43557Nina  43557       Nina     49\n",
              "..           ...    ...        ...    ...\n",
              "95      58388Ian  58388        Ian     14\n",
              "96    43026Alice  43026      Alice     59\n",
              "97    12962Laura  12962      Laura     49\n",
              "98      94063Uma  94063        Uma      6\n",
              "99  17105Charlie  17105    Charlie     84\n",
              "\n",
              "[100 rows x 4 columns]"
            ]
          },
          "execution_count": 25,
          "metadata": {},
          "output_type": "execute_result"
        }
      ],
      "source": [
        "b=df.shape[0]\n",
        "score=np.random.randint(0,101,b)\n",
        "df['score']=score\n",
        "df"
      ]
    },
    {
      "cell_type": "markdown",
      "metadata": {
        "id": "NZu7dGS2xpxT"
      },
      "source": [
        "\n",
        "\n",
        "Perform vector addition and subtraction of ID and “score”.\n"
      ]
    },
    {
      "cell_type": "code",
      "execution_count": 26,
      "metadata": {
        "colab": {
          "base_uri": "https://localhost:8080/"
        },
        "id": "IMc4YjmRZabV",
        "outputId": "6c62b810-d6e6-4f3c-b55a-c07a866efff4"
      },
      "outputs": [
        {
          "name": "stdout",
          "output_type": "stream",
          "text": [
            "Addition: [12374 93922 20486 29420 43606 55092 78612 77331 19926 28310 38966 11327\n",
            " 90392 79595 25745 31835 34228 47753 31516 27526 15385 87350 87557 18416\n",
            " 19095 20274 82675 14299 92067 70749 17546 95882 92959 36423 15157 58155\n",
            " 72455 61792 45577 42183 81580 26727 53295 73684 66393 90112 46853 90373\n",
            " 62422 74911 24458 40053 13631 66407 36528 81726 46457 22534 81838 82205\n",
            " 22282 63311 60476 60614 32897 26728 65350 36880 43023 32574 25291 65281\n",
            " 88652 89516 17609 41477 27523 17326 25042 39356 40214 22407 71161 58307\n",
            " 92766 16146 36954 87883 74856 85518 43940 89759 49987 42869 68614 58402\n",
            " 43085 13011 94069 17189]\n",
            "Subtraction: [12316 93736 20296 29228 43508 54962 78490 77205 19826 28270 38816 11301\n",
            " 90320 79549 25683 31793 34040 47555 31372 27526 15193 87284 87393 18244\n",
            " 18899 20208 82669 14275 92015 70693 17522 95732 92861 36289 15095 58009\n",
            " 72443 61768 45489 42087 81506 26563 53283 73620 66335 90084 46787 90373\n",
            " 62306 74911 24402 39859 13559 66221 36520 81598 46359 22408 81722 82053\n",
            " 22088 63309 60382 60560 32751 26550 65166 36792 42917 32548 25097 65243\n",
            " 88502 89416 17511 41299 27401 17320 24992 39218 40086 22277 71029 58139\n",
            " 92684 16000 36770 87883 74710 85372 43906 89629 49833 42793 68414 58374\n",
            " 42967 12913 94057 17021]\n"
          ]
        }
      ],
      "source": [
        "from re import sub\n",
        "add=np.add(id_arr,score)\n",
        "sub=np.subtract(id_arr,score)\n",
        "print(\"Addition:\",add)\n",
        "print(\"Subtraction:\",sub)"
      ]
    },
    {
      "cell_type": "markdown",
      "metadata": {
        "id": "5GM5XOUDxsE3"
      },
      "source": [
        "\n",
        "\n",
        "Compute the dot product of ID and “score”.\n",
        "\n",
        "\n"
      ]
    },
    {
      "cell_type": "code",
      "execution_count": 27,
      "metadata": {
        "colab": {
          "base_uri": "https://localhost:8080/"
        },
        "id": "e45EkFynaCf_",
        "outputId": "7d9f2631-c4b3-402b-bcda-e83ad2650889"
      },
      "outputs": [
        {
          "name": "stdout",
          "output_type": "stream",
          "text": [
            "Dot product: 247525538\n"
          ]
        }
      ],
      "source": [
        "print(\"Dot product:\",np.dot(id_arr,score))"
      ]
    },
    {
      "cell_type": "markdown",
      "metadata": {
        "id": "VvzhjyWgxuSe"
      },
      "source": [
        "\n",
        "Perform matrix multiplication between:\n",
        "\n",
        "Features = [ID, score]\n",
        "Weights = [0.3, 0.7]"
      ]
    },
    {
      "cell_type": "code",
      "execution_count": 28,
      "metadata": {
        "colab": {
          "base_uri": "https://localhost:8080/"
        },
        "id": "AxRUFLk_axTf",
        "outputId": "9edef458-94be-45c2-aaf5-f1191f9ec462"
      },
      "outputs": [
        {
          "name": "stdout",
          "output_type": "stream",
          "text": [
            "[[3.70350e+03 2.03000e+01]\n",
            " [2.81487e+04 6.51000e+01]\n",
            " [6.11730e+03 6.65000e+01]\n",
            " [8.79720e+03 6.72000e+01]\n",
            " [1.30671e+04 3.43000e+01]\n",
            " [1.65081e+04 4.55000e+01]\n",
            " [2.35653e+04 4.27000e+01]\n",
            " [2.31804e+04 4.41000e+01]\n",
            " [5.96280e+03 3.50000e+01]\n",
            " [8.48700e+03 1.40000e+01]\n",
            " [1.16673e+04 5.25000e+01]\n",
            " [3.39420e+03 9.10000e+00]\n",
            " [2.71068e+04 2.52000e+01]\n",
            " [2.38716e+04 1.61000e+01]\n",
            " [7.71420e+03 2.17000e+01]\n",
            " [9.54420e+03 1.47000e+01]\n",
            " [1.02402e+04 6.58000e+01]\n",
            " [1.42962e+04 6.93000e+01]\n",
            " [9.43320e+03 5.04000e+01]\n",
            " [8.25780e+03 0.00000e+00]\n",
            " [4.58670e+03 6.72000e+01]\n",
            " [2.61951e+04 2.31000e+01]\n",
            " [2.62425e+04 5.74000e+01]\n",
            " [5.49900e+03 6.02000e+01]\n",
            " [5.69910e+03 6.86000e+01]\n",
            " [6.07230e+03 2.31000e+01]\n",
            " [2.48016e+04 2.10000e+00]\n",
            " [4.28610e+03 8.40000e+00]\n",
            " [2.76123e+04 1.82000e+01]\n",
            " [2.12163e+04 1.96000e+01]\n",
            " [5.26020e+03 8.40000e+00]\n",
            " [2.87421e+04 5.25000e+01]\n",
            " [2.78730e+04 3.43000e+01]\n",
            " [1.09068e+04 4.69000e+01]\n",
            " [4.53780e+03 2.17000e+01]\n",
            " [1.74246e+04 5.11000e+01]\n",
            " [2.17347e+04 4.20000e+00]\n",
            " [1.85340e+04 8.40000e+00]\n",
            " [1.36599e+04 3.08000e+01]\n",
            " [1.26405e+04 3.36000e+01]\n",
            " [2.44629e+04 2.59000e+01]\n",
            " [7.99350e+03 5.74000e+01]\n",
            " [1.59867e+04 4.20000e+00]\n",
            " [2.20956e+04 2.24000e+01]\n",
            " [1.99092e+04 2.03000e+01]\n",
            " [2.70294e+04 9.80000e+00]\n",
            " [1.40460e+04 2.31000e+01]\n",
            " [2.71119e+04 0.00000e+00]\n",
            " [1.87092e+04 4.06000e+01]\n",
            " [2.24733e+04 0.00000e+00]\n",
            " [7.32900e+03 1.96000e+01]\n",
            " [1.19868e+04 6.79000e+01]\n",
            " [4.07850e+03 2.52000e+01]\n",
            " [1.98942e+04 6.51000e+01]\n",
            " [1.09572e+04 2.80000e+00]\n",
            " [2.44986e+04 4.48000e+01]\n",
            " [1.39224e+04 3.43000e+01]\n",
            " [6.74130e+03 4.41000e+01]\n",
            " [2.45340e+04 4.06000e+01]\n",
            " [2.46387e+04 5.32000e+01]\n",
            " [6.65550e+03 6.79000e+01]\n",
            " [1.89930e+04 7.00000e-01]\n",
            " [1.81287e+04 3.29000e+01]\n",
            " [1.81761e+04 1.89000e+01]\n",
            " [9.84720e+03 5.11000e+01]\n",
            " [7.99170e+03 6.23000e+01]\n",
            " [1.95774e+04 6.44000e+01]\n",
            " [1.10508e+04 3.08000e+01]\n",
            " [1.28910e+04 3.71000e+01]\n",
            " [9.76830e+03 9.10000e+00]\n",
            " [7.55820e+03 6.79000e+01]\n",
            " [1.95786e+04 1.33000e+01]\n",
            " [2.65731e+04 5.25000e+01]\n",
            " [2.68398e+04 3.50000e+01]\n",
            " [5.26800e+03 3.43000e+01]\n",
            " [1.24164e+04 6.23000e+01]\n",
            " [8.23860e+03 4.27000e+01]\n",
            " [5.19690e+03 2.10000e+00]\n",
            " [7.50510e+03 1.75000e+01]\n",
            " [1.17861e+04 4.83000e+01]\n",
            " [1.20450e+04 4.48000e+01]\n",
            " [6.70260e+03 4.55000e+01]\n",
            " [2.13285e+04 4.62000e+01]\n",
            " [1.74669e+04 5.88000e+01]\n",
            " [2.78175e+04 2.87000e+01]\n",
            " [4.82190e+03 5.11000e+01]\n",
            " [1.10586e+04 6.44000e+01]\n",
            " [2.63649e+04 0.00000e+00]\n",
            " [2.24349e+04 5.11000e+01]\n",
            " [2.56335e+04 5.11000e+01]\n",
            " [1.31769e+04 1.19000e+01]\n",
            " [2.69082e+04 4.55000e+01]\n",
            " [1.49730e+04 5.39000e+01]\n",
            " [1.28493e+04 2.66000e+01]\n",
            " [2.05542e+04 7.00000e+01]\n",
            " [1.75164e+04 9.80000e+00]\n",
            " [1.29078e+04 4.13000e+01]\n",
            " [3.88860e+03 3.43000e+01]\n",
            " [2.82189e+04 4.20000e+00]\n",
            " [5.13150e+03 5.88000e+01]]\n"
          ]
        }
      ],
      "source": [
        "features = df[['ID', 'score']].values\n",
        "weights = np.array([0.3, 0.7])\n",
        "result =np.multiply(features,weights)\n",
        "print(result)"
      ]
    },
    {
      "cell_type": "markdown",
      "metadata": {
        "id": "rLiEVDl-brCP"
      },
      "source": [
        "# **PART 6 - Feature Engineering**"
      ]
    },
    {
      "cell_type": "markdown",
      "metadata": {
        "id": "9AVSpOKfyD7i"
      },
      "source": [
        "Create a new column Name_Length for the number of characters in First_Name.\n",
        "\n"
      ]
    },
    {
      "cell_type": "code",
      "execution_count": 29,
      "metadata": {
        "colab": {
          "base_uri": "https://localhost:8080/",
          "height": 423
        },
        "id": "54PPLbfBbuJD",
        "outputId": "ec162c08-ade5-4d79-94f7-3aa9e3d1bee3"
      },
      "outputs": [
        {
          "data": {
            "text/html": [
              "<div>\n",
              "<style scoped>\n",
              "    .dataframe tbody tr th:only-of-type {\n",
              "        vertical-align: middle;\n",
              "    }\n",
              "\n",
              "    .dataframe tbody tr th {\n",
              "        vertical-align: top;\n",
              "    }\n",
              "\n",
              "    .dataframe thead th {\n",
              "        text-align: right;\n",
              "    }\n",
              "</style>\n",
              "<table border=\"1\" class=\"dataframe\">\n",
              "  <thead>\n",
              "    <tr style=\"text-align: right;\">\n",
              "      <th></th>\n",
              "      <th>id</th>\n",
              "      <th>ID</th>\n",
              "      <th>First_Name</th>\n",
              "      <th>score</th>\n",
              "      <th>len_name</th>\n",
              "    </tr>\n",
              "  </thead>\n",
              "  <tbody>\n",
              "    <tr>\n",
              "      <th>0</th>\n",
              "      <td>12345Johnny</td>\n",
              "      <td>12345</td>\n",
              "      <td>Johnny</td>\n",
              "      <td>29</td>\n",
              "      <td>6</td>\n",
              "    </tr>\n",
              "    <tr>\n",
              "      <th>1</th>\n",
              "      <td>93829Sally</td>\n",
              "      <td>93829</td>\n",
              "      <td>Sally</td>\n",
              "      <td>93</td>\n",
              "      <td>5</td>\n",
              "    </tr>\n",
              "    <tr>\n",
              "      <th>2</th>\n",
              "      <td>20391Larry</td>\n",
              "      <td>20391</td>\n",
              "      <td>Larry</td>\n",
              "      <td>95</td>\n",
              "      <td>5</td>\n",
              "    </tr>\n",
              "    <tr>\n",
              "      <th>3</th>\n",
              "      <td>29324Valerie</td>\n",
              "      <td>29324</td>\n",
              "      <td>Valerie</td>\n",
              "      <td>96</td>\n",
              "      <td>7</td>\n",
              "    </tr>\n",
              "    <tr>\n",
              "      <th>4</th>\n",
              "      <td>43557Nina</td>\n",
              "      <td>43557</td>\n",
              "      <td>Nina</td>\n",
              "      <td>49</td>\n",
              "      <td>4</td>\n",
              "    </tr>\n",
              "    <tr>\n",
              "      <th>...</th>\n",
              "      <td>...</td>\n",
              "      <td>...</td>\n",
              "      <td>...</td>\n",
              "      <td>...</td>\n",
              "      <td>...</td>\n",
              "    </tr>\n",
              "    <tr>\n",
              "      <th>95</th>\n",
              "      <td>58388Ian</td>\n",
              "      <td>58388</td>\n",
              "      <td>Ian</td>\n",
              "      <td>14</td>\n",
              "      <td>3</td>\n",
              "    </tr>\n",
              "    <tr>\n",
              "      <th>96</th>\n",
              "      <td>43026Alice</td>\n",
              "      <td>43026</td>\n",
              "      <td>Alice</td>\n",
              "      <td>59</td>\n",
              "      <td>5</td>\n",
              "    </tr>\n",
              "    <tr>\n",
              "      <th>97</th>\n",
              "      <td>12962Laura</td>\n",
              "      <td>12962</td>\n",
              "      <td>Laura</td>\n",
              "      <td>49</td>\n",
              "      <td>5</td>\n",
              "    </tr>\n",
              "    <tr>\n",
              "      <th>98</th>\n",
              "      <td>94063Uma</td>\n",
              "      <td>94063</td>\n",
              "      <td>Uma</td>\n",
              "      <td>6</td>\n",
              "      <td>3</td>\n",
              "    </tr>\n",
              "    <tr>\n",
              "      <th>99</th>\n",
              "      <td>17105Charlie</td>\n",
              "      <td>17105</td>\n",
              "      <td>Charlie</td>\n",
              "      <td>84</td>\n",
              "      <td>7</td>\n",
              "    </tr>\n",
              "  </tbody>\n",
              "</table>\n",
              "<p>100 rows × 5 columns</p>\n",
              "</div>"
            ],
            "text/plain": [
              "              id     ID First_Name  score  len_name\n",
              "0    12345Johnny  12345     Johnny     29         6\n",
              "1     93829Sally  93829      Sally     93         5\n",
              "2     20391Larry  20391      Larry     95         5\n",
              "3   29324Valerie  29324    Valerie     96         7\n",
              "4      43557Nina  43557       Nina     49         4\n",
              "..           ...    ...        ...    ...       ...\n",
              "95      58388Ian  58388        Ian     14         3\n",
              "96    43026Alice  43026      Alice     59         5\n",
              "97    12962Laura  12962      Laura     49         5\n",
              "98      94063Uma  94063        Uma      6         3\n",
              "99  17105Charlie  17105    Charlie     84         7\n",
              "\n",
              "[100 rows x 5 columns]"
            ]
          },
          "execution_count": 29,
          "metadata": {},
          "output_type": "execute_result"
        }
      ],
      "source": [
        "df['len_name']=df['First_Name'].str.len()\n",
        "df"
      ]
    },
    {
      "cell_type": "markdown",
      "metadata": {
        "id": "bigcX_ftyIKy"
      },
      "source": [
        "\n",
        "\n",
        "Create a binary column Starts_With_Vowel (1 if name starts with A/E/I/O/U, else 0).\n"
      ]
    },
    {
      "cell_type": "code",
      "execution_count": 30,
      "metadata": {
        "colab": {
          "base_uri": "https://localhost:8080/",
          "height": 423
        },
        "id": "RJ71Ili3b37X",
        "outputId": "05870c1f-f904-43d3-d3c2-0a4b4f84ff5a"
      },
      "outputs": [
        {
          "data": {
            "text/html": [
              "<div>\n",
              "<style scoped>\n",
              "    .dataframe tbody tr th:only-of-type {\n",
              "        vertical-align: middle;\n",
              "    }\n",
              "\n",
              "    .dataframe tbody tr th {\n",
              "        vertical-align: top;\n",
              "    }\n",
              "\n",
              "    .dataframe thead th {\n",
              "        text-align: right;\n",
              "    }\n",
              "</style>\n",
              "<table border=\"1\" class=\"dataframe\">\n",
              "  <thead>\n",
              "    <tr style=\"text-align: right;\">\n",
              "      <th></th>\n",
              "      <th>id</th>\n",
              "      <th>ID</th>\n",
              "      <th>First_Name</th>\n",
              "      <th>score</th>\n",
              "      <th>len_name</th>\n",
              "      <th>vowel_name</th>\n",
              "    </tr>\n",
              "  </thead>\n",
              "  <tbody>\n",
              "    <tr>\n",
              "      <th>0</th>\n",
              "      <td>12345Johnny</td>\n",
              "      <td>12345</td>\n",
              "      <td>Johnny</td>\n",
              "      <td>29</td>\n",
              "      <td>6</td>\n",
              "      <td>0</td>\n",
              "    </tr>\n",
              "    <tr>\n",
              "      <th>1</th>\n",
              "      <td>93829Sally</td>\n",
              "      <td>93829</td>\n",
              "      <td>Sally</td>\n",
              "      <td>93</td>\n",
              "      <td>5</td>\n",
              "      <td>0</td>\n",
              "    </tr>\n",
              "    <tr>\n",
              "      <th>2</th>\n",
              "      <td>20391Larry</td>\n",
              "      <td>20391</td>\n",
              "      <td>Larry</td>\n",
              "      <td>95</td>\n",
              "      <td>5</td>\n",
              "      <td>0</td>\n",
              "    </tr>\n",
              "    <tr>\n",
              "      <th>3</th>\n",
              "      <td>29324Valerie</td>\n",
              "      <td>29324</td>\n",
              "      <td>Valerie</td>\n",
              "      <td>96</td>\n",
              "      <td>7</td>\n",
              "      <td>0</td>\n",
              "    </tr>\n",
              "    <tr>\n",
              "      <th>4</th>\n",
              "      <td>43557Nina</td>\n",
              "      <td>43557</td>\n",
              "      <td>Nina</td>\n",
              "      <td>49</td>\n",
              "      <td>4</td>\n",
              "      <td>0</td>\n",
              "    </tr>\n",
              "    <tr>\n",
              "      <th>...</th>\n",
              "      <td>...</td>\n",
              "      <td>...</td>\n",
              "      <td>...</td>\n",
              "      <td>...</td>\n",
              "      <td>...</td>\n",
              "      <td>...</td>\n",
              "    </tr>\n",
              "    <tr>\n",
              "      <th>95</th>\n",
              "      <td>58388Ian</td>\n",
              "      <td>58388</td>\n",
              "      <td>Ian</td>\n",
              "      <td>14</td>\n",
              "      <td>3</td>\n",
              "      <td>1</td>\n",
              "    </tr>\n",
              "    <tr>\n",
              "      <th>96</th>\n",
              "      <td>43026Alice</td>\n",
              "      <td>43026</td>\n",
              "      <td>Alice</td>\n",
              "      <td>59</td>\n",
              "      <td>5</td>\n",
              "      <td>1</td>\n",
              "    </tr>\n",
              "    <tr>\n",
              "      <th>97</th>\n",
              "      <td>12962Laura</td>\n",
              "      <td>12962</td>\n",
              "      <td>Laura</td>\n",
              "      <td>49</td>\n",
              "      <td>5</td>\n",
              "      <td>0</td>\n",
              "    </tr>\n",
              "    <tr>\n",
              "      <th>98</th>\n",
              "      <td>94063Uma</td>\n",
              "      <td>94063</td>\n",
              "      <td>Uma</td>\n",
              "      <td>6</td>\n",
              "      <td>3</td>\n",
              "      <td>1</td>\n",
              "    </tr>\n",
              "    <tr>\n",
              "      <th>99</th>\n",
              "      <td>17105Charlie</td>\n",
              "      <td>17105</td>\n",
              "      <td>Charlie</td>\n",
              "      <td>84</td>\n",
              "      <td>7</td>\n",
              "      <td>0</td>\n",
              "    </tr>\n",
              "  </tbody>\n",
              "</table>\n",
              "<p>100 rows × 6 columns</p>\n",
              "</div>"
            ],
            "text/plain": [
              "              id     ID First_Name  score  len_name  vowel_name\n",
              "0    12345Johnny  12345     Johnny     29         6           0\n",
              "1     93829Sally  93829      Sally     93         5           0\n",
              "2     20391Larry  20391      Larry     95         5           0\n",
              "3   29324Valerie  29324    Valerie     96         7           0\n",
              "4      43557Nina  43557       Nina     49         4           0\n",
              "..           ...    ...        ...    ...       ...         ...\n",
              "95      58388Ian  58388        Ian     14         3           1\n",
              "96    43026Alice  43026      Alice     59         5           1\n",
              "97    12962Laura  12962      Laura     49         5           0\n",
              "98      94063Uma  94063        Uma      6         3           1\n",
              "99  17105Charlie  17105    Charlie     84         7           0\n",
              "\n",
              "[100 rows x 6 columns]"
            ]
          },
          "execution_count": 30,
          "metadata": {},
          "output_type": "execute_result"
        }
      ],
      "source": [
        "vow_name=df['First_Name'].str.startswith(('A','E','I','O','U'))\n",
        "vow_name=vow_name.astype('int64')\n",
        "df['vowel_name']=vow_name\n",
        "df"
      ]
    },
    {
      "cell_type": "markdown",
      "metadata": {
        "id": "PaF35LFayL2R"
      },
      "source": [
        "\n",
        "\n",
        "Create a High_ID column (1 if ID > 50000, else 0).\n",
        "\n"
      ]
    },
    {
      "cell_type": "code",
      "execution_count": 31,
      "metadata": {
        "colab": {
          "base_uri": "https://localhost:8080/",
          "height": 423
        },
        "id": "hvANzp21dCw-",
        "outputId": "5531609c-d78b-4a24-bbc2-991f105b758c"
      },
      "outputs": [
        {
          "data": {
            "text/html": [
              "<div>\n",
              "<style scoped>\n",
              "    .dataframe tbody tr th:only-of-type {\n",
              "        vertical-align: middle;\n",
              "    }\n",
              "\n",
              "    .dataframe tbody tr th {\n",
              "        vertical-align: top;\n",
              "    }\n",
              "\n",
              "    .dataframe thead th {\n",
              "        text-align: right;\n",
              "    }\n",
              "</style>\n",
              "<table border=\"1\" class=\"dataframe\">\n",
              "  <thead>\n",
              "    <tr style=\"text-align: right;\">\n",
              "      <th></th>\n",
              "      <th>id</th>\n",
              "      <th>ID</th>\n",
              "      <th>First_Name</th>\n",
              "      <th>score</th>\n",
              "      <th>len_name</th>\n",
              "      <th>vowel_name</th>\n",
              "      <th>high_id</th>\n",
              "    </tr>\n",
              "  </thead>\n",
              "  <tbody>\n",
              "    <tr>\n",
              "      <th>0</th>\n",
              "      <td>12345Johnny</td>\n",
              "      <td>12345</td>\n",
              "      <td>Johnny</td>\n",
              "      <td>29</td>\n",
              "      <td>6</td>\n",
              "      <td>0</td>\n",
              "      <td>0</td>\n",
              "    </tr>\n",
              "    <tr>\n",
              "      <th>1</th>\n",
              "      <td>93829Sally</td>\n",
              "      <td>93829</td>\n",
              "      <td>Sally</td>\n",
              "      <td>93</td>\n",
              "      <td>5</td>\n",
              "      <td>0</td>\n",
              "      <td>1</td>\n",
              "    </tr>\n",
              "    <tr>\n",
              "      <th>2</th>\n",
              "      <td>20391Larry</td>\n",
              "      <td>20391</td>\n",
              "      <td>Larry</td>\n",
              "      <td>95</td>\n",
              "      <td>5</td>\n",
              "      <td>0</td>\n",
              "      <td>0</td>\n",
              "    </tr>\n",
              "    <tr>\n",
              "      <th>3</th>\n",
              "      <td>29324Valerie</td>\n",
              "      <td>29324</td>\n",
              "      <td>Valerie</td>\n",
              "      <td>96</td>\n",
              "      <td>7</td>\n",
              "      <td>0</td>\n",
              "      <td>0</td>\n",
              "    </tr>\n",
              "    <tr>\n",
              "      <th>4</th>\n",
              "      <td>43557Nina</td>\n",
              "      <td>43557</td>\n",
              "      <td>Nina</td>\n",
              "      <td>49</td>\n",
              "      <td>4</td>\n",
              "      <td>0</td>\n",
              "      <td>0</td>\n",
              "    </tr>\n",
              "    <tr>\n",
              "      <th>...</th>\n",
              "      <td>...</td>\n",
              "      <td>...</td>\n",
              "      <td>...</td>\n",
              "      <td>...</td>\n",
              "      <td>...</td>\n",
              "      <td>...</td>\n",
              "      <td>...</td>\n",
              "    </tr>\n",
              "    <tr>\n",
              "      <th>95</th>\n",
              "      <td>58388Ian</td>\n",
              "      <td>58388</td>\n",
              "      <td>Ian</td>\n",
              "      <td>14</td>\n",
              "      <td>3</td>\n",
              "      <td>1</td>\n",
              "      <td>1</td>\n",
              "    </tr>\n",
              "    <tr>\n",
              "      <th>96</th>\n",
              "      <td>43026Alice</td>\n",
              "      <td>43026</td>\n",
              "      <td>Alice</td>\n",
              "      <td>59</td>\n",
              "      <td>5</td>\n",
              "      <td>1</td>\n",
              "      <td>0</td>\n",
              "    </tr>\n",
              "    <tr>\n",
              "      <th>97</th>\n",
              "      <td>12962Laura</td>\n",
              "      <td>12962</td>\n",
              "      <td>Laura</td>\n",
              "      <td>49</td>\n",
              "      <td>5</td>\n",
              "      <td>0</td>\n",
              "      <td>0</td>\n",
              "    </tr>\n",
              "    <tr>\n",
              "      <th>98</th>\n",
              "      <td>94063Uma</td>\n",
              "      <td>94063</td>\n",
              "      <td>Uma</td>\n",
              "      <td>6</td>\n",
              "      <td>3</td>\n",
              "      <td>1</td>\n",
              "      <td>1</td>\n",
              "    </tr>\n",
              "    <tr>\n",
              "      <th>99</th>\n",
              "      <td>17105Charlie</td>\n",
              "      <td>17105</td>\n",
              "      <td>Charlie</td>\n",
              "      <td>84</td>\n",
              "      <td>7</td>\n",
              "      <td>0</td>\n",
              "      <td>0</td>\n",
              "    </tr>\n",
              "  </tbody>\n",
              "</table>\n",
              "<p>100 rows × 7 columns</p>\n",
              "</div>"
            ],
            "text/plain": [
              "              id     ID First_Name  score  len_name  vowel_name  high_id\n",
              "0    12345Johnny  12345     Johnny     29         6           0        0\n",
              "1     93829Sally  93829      Sally     93         5           0        1\n",
              "2     20391Larry  20391      Larry     95         5           0        0\n",
              "3   29324Valerie  29324    Valerie     96         7           0        0\n",
              "4      43557Nina  43557       Nina     49         4           0        0\n",
              "..           ...    ...        ...    ...       ...         ...      ...\n",
              "95      58388Ian  58388        Ian     14         3           1        1\n",
              "96    43026Alice  43026      Alice     59         5           1        0\n",
              "97    12962Laura  12962      Laura     49         5           0        0\n",
              "98      94063Uma  94063        Uma      6         3           1        1\n",
              "99  17105Charlie  17105    Charlie     84         7           0        0\n",
              "\n",
              "[100 rows x 7 columns]"
            ]
          },
          "execution_count": 31,
          "metadata": {},
          "output_type": "execute_result"
        }
      ],
      "source": [
        "high_id=df['ID']>50000\n",
        "df['high_id']=high_id.astype('int64')\n",
        "df"
      ]
    },
    {
      "cell_type": "markdown",
      "metadata": {
        "id": "zJp2r3_nyN4r"
      },
      "source": [
        "\n",
        "Rank names by length using qcut() into 4 quartiles."
      ]
    },
    {
      "cell_type": "code",
      "execution_count": 32,
      "metadata": {
        "colab": {
          "base_uri": "https://localhost:8080/"
        },
        "id": "F5H7qbE0lwWP",
        "outputId": "e264b38c-dfcd-4bae-fb70-45b6d4988519"
      },
      "outputs": [
        {
          "name": "stdout",
          "output_type": "stream",
          "text": [
            "  First_Name Length_Quartile\n",
            "0     Johnny      (5.0, 6.0]\n",
            "1      Sally    (2.999, 5.0]\n",
            "2      Larry    (2.999, 5.0]\n",
            "3    Valerie      (6.0, 7.0]\n",
            "4       Nina    (2.999, 5.0]\n"
          ]
        }
      ],
      "source": [
        "name_len = df['First_Name'].str.len()\n",
        "df['Length_Quartile'] = pd.qcut(name_len, 4, duplicates='drop')\n",
        "print(df[['First_Name', 'Length_Quartile']].head())"
      ]
    },
    {
      "cell_type": "markdown",
      "metadata": {
        "id": "zkH9YHV8nbEl"
      },
      "source": [
        "# **PART 7 -  SQL Simulation in Pandas**"
      ]
    },
    {
      "cell_type": "markdown",
      "metadata": {
        "id": "gwq140jRyP2D"
      },
      "source": [
        "Select all rows where Starts_With_Vowel = 1 and High_ID = 1.\n"
      ]
    },
    {
      "cell_type": "code",
      "execution_count": 33,
      "metadata": {
        "colab": {
          "base_uri": "https://localhost:8080/",
          "height": 237
        },
        "id": "9iq1jEVAneYY",
        "outputId": "ddc52432-683c-4fe9-aa65-ba0f722ce184"
      },
      "outputs": [
        {
          "data": {
            "text/html": [
              "<div>\n",
              "<style scoped>\n",
              "    .dataframe tbody tr th:only-of-type {\n",
              "        vertical-align: middle;\n",
              "    }\n",
              "\n",
              "    .dataframe tbody tr th {\n",
              "        vertical-align: top;\n",
              "    }\n",
              "\n",
              "    .dataframe thead th {\n",
              "        text-align: right;\n",
              "    }\n",
              "</style>\n",
              "<table border=\"1\" class=\"dataframe\">\n",
              "  <thead>\n",
              "    <tr style=\"text-align: right;\">\n",
              "      <th></th>\n",
              "      <th>id</th>\n",
              "      <th>ID</th>\n",
              "      <th>First_Name</th>\n",
              "      <th>score</th>\n",
              "      <th>len_name</th>\n",
              "      <th>vowel_name</th>\n",
              "      <th>high_id</th>\n",
              "      <th>Length_Quartile</th>\n",
              "    </tr>\n",
              "  </thead>\n",
              "  <tbody>\n",
              "    <tr>\n",
              "      <th>35</th>\n",
              "      <td>58082Uma</td>\n",
              "      <td>58082</td>\n",
              "      <td>Uma</td>\n",
              "      <td>73</td>\n",
              "      <td>3</td>\n",
              "      <td>1</td>\n",
              "      <td>1</td>\n",
              "      <td>(2.999, 5.0]</td>\n",
              "    </tr>\n",
              "    <tr>\n",
              "      <th>37</th>\n",
              "      <td>61780Ethan</td>\n",
              "      <td>61780</td>\n",
              "      <td>Ethan</td>\n",
              "      <td>12</td>\n",
              "      <td>5</td>\n",
              "      <td>1</td>\n",
              "      <td>1</td>\n",
              "      <td>(2.999, 5.0]</td>\n",
              "    </tr>\n",
              "    <tr>\n",
              "      <th>72</th>\n",
              "      <td>88577Ethan</td>\n",
              "      <td>88577</td>\n",
              "      <td>Ethan</td>\n",
              "      <td>75</td>\n",
              "      <td>5</td>\n",
              "      <td>1</td>\n",
              "      <td>1</td>\n",
              "      <td>(2.999, 5.0]</td>\n",
              "    </tr>\n",
              "    <tr>\n",
              "      <th>73</th>\n",
              "      <td>89466Ethan</td>\n",
              "      <td>89466</td>\n",
              "      <td>Ethan</td>\n",
              "      <td>50</td>\n",
              "      <td>5</td>\n",
              "      <td>1</td>\n",
              "      <td>1</td>\n",
              "      <td>(2.999, 5.0]</td>\n",
              "    </tr>\n",
              "    <tr>\n",
              "      <th>95</th>\n",
              "      <td>58388Ian</td>\n",
              "      <td>58388</td>\n",
              "      <td>Ian</td>\n",
              "      <td>14</td>\n",
              "      <td>3</td>\n",
              "      <td>1</td>\n",
              "      <td>1</td>\n",
              "      <td>(2.999, 5.0]</td>\n",
              "    </tr>\n",
              "    <tr>\n",
              "      <th>98</th>\n",
              "      <td>94063Uma</td>\n",
              "      <td>94063</td>\n",
              "      <td>Uma</td>\n",
              "      <td>6</td>\n",
              "      <td>3</td>\n",
              "      <td>1</td>\n",
              "      <td>1</td>\n",
              "      <td>(2.999, 5.0]</td>\n",
              "    </tr>\n",
              "  </tbody>\n",
              "</table>\n",
              "</div>"
            ],
            "text/plain": [
              "            id     ID First_Name  score  len_name  vowel_name  high_id  \\\n",
              "35    58082Uma  58082        Uma     73         3           1        1   \n",
              "37  61780Ethan  61780      Ethan     12         5           1        1   \n",
              "72  88577Ethan  88577      Ethan     75         5           1        1   \n",
              "73  89466Ethan  89466      Ethan     50         5           1        1   \n",
              "95    58388Ian  58388        Ian     14         3           1        1   \n",
              "98    94063Uma  94063        Uma      6         3           1        1   \n",
              "\n",
              "   Length_Quartile  \n",
              "35    (2.999, 5.0]  \n",
              "37    (2.999, 5.0]  \n",
              "72    (2.999, 5.0]  \n",
              "73    (2.999, 5.0]  \n",
              "95    (2.999, 5.0]  \n",
              "98    (2.999, 5.0]  "
            ]
          },
          "execution_count": 33,
          "metadata": {},
          "output_type": "execute_result"
        }
      ],
      "source": [
        "df[(df['vowel_name']==1)&(df['high_id']==1)]"
      ]
    },
    {
      "cell_type": "markdown",
      "metadata": {
        "id": "kCsxUlUvyUT0"
      },
      "source": [
        "\n",
        "\n",
        "Get the top 10 IDs in descending order.\n"
      ]
    },
    {
      "cell_type": "code",
      "execution_count": 34,
      "metadata": {
        "colab": {
          "base_uri": "https://localhost:8080/",
          "height": 363
        },
        "id": "_bpd-_t3nv5D",
        "outputId": "a0d34438-8561-4cc6-9c68-c58a7345ac70"
      },
      "outputs": [
        {
          "data": {
            "text/html": [
              "<div>\n",
              "<style scoped>\n",
              "    .dataframe tbody tr th:only-of-type {\n",
              "        vertical-align: middle;\n",
              "    }\n",
              "\n",
              "    .dataframe tbody tr th {\n",
              "        vertical-align: top;\n",
              "    }\n",
              "\n",
              "    .dataframe thead th {\n",
              "        text-align: right;\n",
              "    }\n",
              "</style>\n",
              "<table border=\"1\" class=\"dataframe\">\n",
              "  <thead>\n",
              "    <tr style=\"text-align: right;\">\n",
              "      <th></th>\n",
              "      <th>id</th>\n",
              "      <th>ID</th>\n",
              "      <th>First_Name</th>\n",
              "      <th>score</th>\n",
              "      <th>len_name</th>\n",
              "      <th>vowel_name</th>\n",
              "      <th>high_id</th>\n",
              "      <th>Length_Quartile</th>\n",
              "    </tr>\n",
              "  </thead>\n",
              "  <tbody>\n",
              "    <tr>\n",
              "      <th>31</th>\n",
              "      <td>95807Xander</td>\n",
              "      <td>95807</td>\n",
              "      <td>Xander</td>\n",
              "      <td>75</td>\n",
              "      <td>6</td>\n",
              "      <td>0</td>\n",
              "      <td>1</td>\n",
              "      <td>(5.0, 6.0]</td>\n",
              "    </tr>\n",
              "    <tr>\n",
              "      <th>98</th>\n",
              "      <td>94063Uma</td>\n",
              "      <td>94063</td>\n",
              "      <td>Uma</td>\n",
              "      <td>6</td>\n",
              "      <td>3</td>\n",
              "      <td>1</td>\n",
              "      <td>1</td>\n",
              "      <td>(2.999, 5.0]</td>\n",
              "    </tr>\n",
              "    <tr>\n",
              "      <th>1</th>\n",
              "      <td>93829Sally</td>\n",
              "      <td>93829</td>\n",
              "      <td>Sally</td>\n",
              "      <td>93</td>\n",
              "      <td>5</td>\n",
              "      <td>0</td>\n",
              "      <td>1</td>\n",
              "      <td>(2.999, 5.0]</td>\n",
              "    </tr>\n",
              "    <tr>\n",
              "      <th>32</th>\n",
              "      <td>92910Sophia</td>\n",
              "      <td>92910</td>\n",
              "      <td>Sophia</td>\n",
              "      <td>49</td>\n",
              "      <td>6</td>\n",
              "      <td>0</td>\n",
              "      <td>1</td>\n",
              "      <td>(5.0, 6.0]</td>\n",
              "    </tr>\n",
              "    <tr>\n",
              "      <th>84</th>\n",
              "      <td>92725Nina</td>\n",
              "      <td>92725</td>\n",
              "      <td>Nina</td>\n",
              "      <td>41</td>\n",
              "      <td>4</td>\n",
              "      <td>0</td>\n",
              "      <td>1</td>\n",
              "      <td>(2.999, 5.0]</td>\n",
              "    </tr>\n",
              "    <tr>\n",
              "      <th>28</th>\n",
              "      <td>92041Sophia</td>\n",
              "      <td>92041</td>\n",
              "      <td>Sophia</td>\n",
              "      <td>26</td>\n",
              "      <td>6</td>\n",
              "      <td>0</td>\n",
              "      <td>1</td>\n",
              "      <td>(5.0, 6.0]</td>\n",
              "    </tr>\n",
              "    <tr>\n",
              "      <th>47</th>\n",
              "      <td>90373Michael</td>\n",
              "      <td>90373</td>\n",
              "      <td>Michael</td>\n",
              "      <td>0</td>\n",
              "      <td>7</td>\n",
              "      <td>0</td>\n",
              "      <td>1</td>\n",
              "      <td>(6.0, 7.0]</td>\n",
              "    </tr>\n",
              "    <tr>\n",
              "      <th>12</th>\n",
              "      <td>90356Paula</td>\n",
              "      <td>90356</td>\n",
              "      <td>Paula</td>\n",
              "      <td>36</td>\n",
              "      <td>5</td>\n",
              "      <td>0</td>\n",
              "      <td>1</td>\n",
              "      <td>(2.999, 5.0]</td>\n",
              "    </tr>\n",
              "    <tr>\n",
              "      <th>45</th>\n",
              "      <td>90098Hannah</td>\n",
              "      <td>90098</td>\n",
              "      <td>Hannah</td>\n",
              "      <td>14</td>\n",
              "      <td>6</td>\n",
              "      <td>0</td>\n",
              "      <td>1</td>\n",
              "      <td>(5.0, 6.0]</td>\n",
              "    </tr>\n",
              "    <tr>\n",
              "      <th>91</th>\n",
              "      <td>89694Fiona</td>\n",
              "      <td>89694</td>\n",
              "      <td>Fiona</td>\n",
              "      <td>65</td>\n",
              "      <td>5</td>\n",
              "      <td>0</td>\n",
              "      <td>1</td>\n",
              "      <td>(2.999, 5.0]</td>\n",
              "    </tr>\n",
              "  </tbody>\n",
              "</table>\n",
              "</div>"
            ],
            "text/plain": [
              "              id     ID First_Name  score  len_name  vowel_name  high_id  \\\n",
              "31   95807Xander  95807     Xander     75         6           0        1   \n",
              "98      94063Uma  94063        Uma      6         3           1        1   \n",
              "1     93829Sally  93829      Sally     93         5           0        1   \n",
              "32   92910Sophia  92910     Sophia     49         6           0        1   \n",
              "84     92725Nina  92725       Nina     41         4           0        1   \n",
              "28   92041Sophia  92041     Sophia     26         6           0        1   \n",
              "47  90373Michael  90373    Michael      0         7           0        1   \n",
              "12    90356Paula  90356      Paula     36         5           0        1   \n",
              "45   90098Hannah  90098     Hannah     14         6           0        1   \n",
              "91    89694Fiona  89694      Fiona     65         5           0        1   \n",
              "\n",
              "   Length_Quartile  \n",
              "31      (5.0, 6.0]  \n",
              "98    (2.999, 5.0]  \n",
              "1     (2.999, 5.0]  \n",
              "32      (5.0, 6.0]  \n",
              "84    (2.999, 5.0]  \n",
              "28      (5.0, 6.0]  \n",
              "47      (6.0, 7.0]  \n",
              "12    (2.999, 5.0]  \n",
              "45      (5.0, 6.0]  \n",
              "91    (2.999, 5.0]  "
            ]
          },
          "execution_count": 34,
          "metadata": {},
          "output_type": "execute_result"
        }
      ],
      "source": [
        "df.sort_values(by='ID', ascending=False).head(10)"
      ]
    },
    {
      "cell_type": "markdown",
      "metadata": {
        "id": "HFkK3iiJyW9O"
      },
      "source": [
        "\n",
        "\n",
        "Group by Starts_With_Vowel and count how many rows each has.\n"
      ]
    },
    {
      "cell_type": "code",
      "execution_count": 35,
      "metadata": {
        "colab": {
          "base_uri": "https://localhost:8080/",
          "height": 112
        },
        "id": "fp0TA8omosI7",
        "outputId": "8559ee37-14b5-44f8-e66a-2cb553c8511c"
      },
      "outputs": [
        {
          "data": {
            "text/html": [
              "<div>\n",
              "<style scoped>\n",
              "    .dataframe tbody tr th:only-of-type {\n",
              "        vertical-align: middle;\n",
              "    }\n",
              "\n",
              "    .dataframe tbody tr th {\n",
              "        vertical-align: top;\n",
              "    }\n",
              "\n",
              "    .dataframe thead th {\n",
              "        text-align: right;\n",
              "    }\n",
              "</style>\n",
              "<table border=\"1\" class=\"dataframe\">\n",
              "  <thead>\n",
              "    <tr style=\"text-align: right;\">\n",
              "      <th></th>\n",
              "      <th>vowel_name</th>\n",
              "      <th>count</th>\n",
              "    </tr>\n",
              "  </thead>\n",
              "  <tbody>\n",
              "    <tr>\n",
              "      <th>0</th>\n",
              "      <td>0</td>\n",
              "      <td>83</td>\n",
              "    </tr>\n",
              "    <tr>\n",
              "      <th>1</th>\n",
              "      <td>1</td>\n",
              "      <td>17</td>\n",
              "    </tr>\n",
              "  </tbody>\n",
              "</table>\n",
              "</div>"
            ],
            "text/plain": [
              "   vowel_name  count\n",
              "0           0     83\n",
              "1           1     17"
            ]
          },
          "execution_count": 35,
          "metadata": {},
          "output_type": "execute_result"
        }
      ],
      "source": [
        "df.groupby('vowel_name').size().reset_index(name='count')"
      ]
    },
    {
      "cell_type": "markdown",
      "metadata": {
        "id": "EVCoZ-9byZZE"
      },
      "source": [
        "\n",
        "\n",
        "Sort by Name_Length (descending) and ID (ascending)."
      ]
    },
    {
      "cell_type": "code",
      "execution_count": 36,
      "metadata": {
        "colab": {
          "base_uri": "https://localhost:8080/",
          "height": 423
        },
        "id": "kNGtXLc7ps0o",
        "outputId": "7da091a5-5113-4c1b-d34f-162bdabef2d6"
      },
      "outputs": [
        {
          "data": {
            "text/html": [
              "<div>\n",
              "<style scoped>\n",
              "    .dataframe tbody tr th:only-of-type {\n",
              "        vertical-align: middle;\n",
              "    }\n",
              "\n",
              "    .dataframe tbody tr th {\n",
              "        vertical-align: top;\n",
              "    }\n",
              "\n",
              "    .dataframe thead th {\n",
              "        text-align: right;\n",
              "    }\n",
              "</style>\n",
              "<table border=\"1\" class=\"dataframe\">\n",
              "  <thead>\n",
              "    <tr style=\"text-align: right;\">\n",
              "      <th></th>\n",
              "      <th>id</th>\n",
              "      <th>ID</th>\n",
              "      <th>First_Name</th>\n",
              "      <th>score</th>\n",
              "      <th>len_name</th>\n",
              "      <th>vowel_name</th>\n",
              "      <th>high_id</th>\n",
              "      <th>Length_Quartile</th>\n",
              "    </tr>\n",
              "  </thead>\n",
              "  <tbody>\n",
              "    <tr>\n",
              "      <th>99</th>\n",
              "      <td>17105Charlie</td>\n",
              "      <td>17105</td>\n",
              "      <td>Charlie</td>\n",
              "      <td>84</td>\n",
              "      <td>7</td>\n",
              "      <td>0</td>\n",
              "      <td>0</td>\n",
              "      <td>(6.0, 7.0]</td>\n",
              "    </tr>\n",
              "    <tr>\n",
              "      <th>77</th>\n",
              "      <td>17323Charlie</td>\n",
              "      <td>17323</td>\n",
              "      <td>Charlie</td>\n",
              "      <td>3</td>\n",
              "      <td>7</td>\n",
              "      <td>0</td>\n",
              "      <td>0</td>\n",
              "      <td>(6.0, 7.0]</td>\n",
              "    </tr>\n",
              "    <tr>\n",
              "      <th>30</th>\n",
              "      <td>17534Charlie</td>\n",
              "      <td>17534</td>\n",
              "      <td>Charlie</td>\n",
              "      <td>12</td>\n",
              "      <td>7</td>\n",
              "      <td>0</td>\n",
              "      <td>0</td>\n",
              "      <td>(6.0, 7.0]</td>\n",
              "    </tr>\n",
              "    <tr>\n",
              "      <th>3</th>\n",
              "      <td>29324Valerie</td>\n",
              "      <td>29324</td>\n",
              "      <td>Valerie</td>\n",
              "      <td>96</td>\n",
              "      <td>7</td>\n",
              "      <td>0</td>\n",
              "      <td>0</td>\n",
              "      <td>(6.0, 7.0]</td>\n",
              "    </tr>\n",
              "    <tr>\n",
              "      <th>18</th>\n",
              "      <td>31444Charlie</td>\n",
              "      <td>31444</td>\n",
              "      <td>Charlie</td>\n",
              "      <td>72</td>\n",
              "      <td>7</td>\n",
              "      <td>0</td>\n",
              "      <td>0</td>\n",
              "      <td>(6.0, 7.0]</td>\n",
              "    </tr>\n",
              "    <tr>\n",
              "      <th>...</th>\n",
              "      <td>...</td>\n",
              "      <td>...</td>\n",
              "      <td>...</td>\n",
              "      <td>...</td>\n",
              "      <td>...</td>\n",
              "      <td>...</td>\n",
              "      <td>...</td>\n",
              "      <td>...</td>\n",
              "    </tr>\n",
              "    <tr>\n",
              "      <th>95</th>\n",
              "      <td>58388Ian</td>\n",
              "      <td>58388</td>\n",
              "      <td>Ian</td>\n",
              "      <td>14</td>\n",
              "      <td>3</td>\n",
              "      <td>1</td>\n",
              "      <td>1</td>\n",
              "      <td>(2.999, 5.0]</td>\n",
              "    </tr>\n",
              "    <tr>\n",
              "      <th>66</th>\n",
              "      <td>65258Bob</td>\n",
              "      <td>65258</td>\n",
              "      <td>Bob</td>\n",
              "      <td>92</td>\n",
              "      <td>3</td>\n",
              "      <td>0</td>\n",
              "      <td>1</td>\n",
              "      <td>(2.999, 5.0]</td>\n",
              "    </tr>\n",
              "    <tr>\n",
              "      <th>71</th>\n",
              "      <td>65262Bob</td>\n",
              "      <td>65262</td>\n",
              "      <td>Bob</td>\n",
              "      <td>19</td>\n",
              "      <td>3</td>\n",
              "      <td>0</td>\n",
              "      <td>1</td>\n",
              "      <td>(2.999, 5.0]</td>\n",
              "    </tr>\n",
              "    <tr>\n",
              "      <th>21</th>\n",
              "      <td>87317Bob</td>\n",
              "      <td>87317</td>\n",
              "      <td>Bob</td>\n",
              "      <td>33</td>\n",
              "      <td>3</td>\n",
              "      <td>0</td>\n",
              "      <td>1</td>\n",
              "      <td>(2.999, 5.0]</td>\n",
              "    </tr>\n",
              "    <tr>\n",
              "      <th>98</th>\n",
              "      <td>94063Uma</td>\n",
              "      <td>94063</td>\n",
              "      <td>Uma</td>\n",
              "      <td>6</td>\n",
              "      <td>3</td>\n",
              "      <td>1</td>\n",
              "      <td>1</td>\n",
              "      <td>(2.999, 5.0]</td>\n",
              "    </tr>\n",
              "  </tbody>\n",
              "</table>\n",
              "<p>100 rows × 8 columns</p>\n",
              "</div>"
            ],
            "text/plain": [
              "              id     ID First_Name  score  len_name  vowel_name  high_id  \\\n",
              "99  17105Charlie  17105    Charlie     84         7           0        0   \n",
              "77  17323Charlie  17323    Charlie      3         7           0        0   \n",
              "30  17534Charlie  17534    Charlie     12         7           0        0   \n",
              "3   29324Valerie  29324    Valerie     96         7           0        0   \n",
              "18  31444Charlie  31444    Charlie     72         7           0        0   \n",
              "..           ...    ...        ...    ...       ...         ...      ...   \n",
              "95      58388Ian  58388        Ian     14         3           1        1   \n",
              "66      65258Bob  65258        Bob     92         3           0        1   \n",
              "71      65262Bob  65262        Bob     19         3           0        1   \n",
              "21      87317Bob  87317        Bob     33         3           0        1   \n",
              "98      94063Uma  94063        Uma      6         3           1        1   \n",
              "\n",
              "   Length_Quartile  \n",
              "99      (6.0, 7.0]  \n",
              "77      (6.0, 7.0]  \n",
              "30      (6.0, 7.0]  \n",
              "3       (6.0, 7.0]  \n",
              "18      (6.0, 7.0]  \n",
              "..             ...  \n",
              "95    (2.999, 5.0]  \n",
              "66    (2.999, 5.0]  \n",
              "71    (2.999, 5.0]  \n",
              "21    (2.999, 5.0]  \n",
              "98    (2.999, 5.0]  \n",
              "\n",
              "[100 rows x 8 columns]"
            ]
          },
          "execution_count": 36,
          "metadata": {},
          "output_type": "execute_result"
        }
      ],
      "source": [
        "df.sort_values(['len_name','ID'],ascending=[False,True])"
      ]
    },
    {
      "cell_type": "markdown",
      "metadata": {
        "id": "S4kTfDrhqCBm"
      },
      "source": [
        "# **PART 8 - Insights**"
      ]
    },
    {
      "cell_type": "markdown",
      "metadata": {
        "id": "c5gGRmp_ycyq"
      },
      "source": [
        "Which name appears most frequently?\n"
      ]
    },
    {
      "cell_type": "code",
      "execution_count": 37,
      "metadata": {
        "colab": {
          "base_uri": "https://localhost:8080/",
          "height": 147
        },
        "id": "TM15dxabqD_5",
        "outputId": "ccf69526-b6ac-44de-fc42-65360511b9ad"
      },
      "outputs": [
        {
          "data": {
            "text/plain": [
              "First_Name\n",
              "Sophia    8\n",
              "Name: count, dtype: int64"
            ]
          },
          "execution_count": 37,
          "metadata": {},
          "output_type": "execute_result"
        }
      ],
      "source": [
        "name=df['First_Name'].value_counts()\n",
        "name.head(1)\n"
      ]
    },
    {
      "cell_type": "markdown",
      "metadata": {
        "id": "oWtfe9oeyfGu"
      },
      "source": [
        "\n",
        "\n",
        "What is the average ID value?"
      ]
    },
    {
      "cell_type": "code",
      "execution_count": 38,
      "metadata": {
        "colab": {
          "base_uri": "https://localhost:8080/"
        },
        "id": "A8DjJq7KqT8V",
        "outputId": "78a96caf-ccfc-4e51-acbc-4e0177207a3c"
      },
      "outputs": [
        {
          "name": "stdout",
          "output_type": "stream",
          "text": [
            "50694.19\n"
          ]
        }
      ],
      "source": [
        "print(df['ID'].mean())"
      ]
    },
    {
      "cell_type": "markdown",
      "metadata": {
        "id": "n1asijV6yhtA"
      },
      "source": [
        "\n",
        "\n",
        "\n",
        "Is there any trend between ID size and name length?\n",
        "\n"
      ]
    },
    {
      "cell_type": "code",
      "execution_count": 39,
      "metadata": {
        "colab": {
          "base_uri": "https://localhost:8080/"
        },
        "id": "3n22UF9nv4mq",
        "outputId": "ee77fd16-50dd-42fa-c4a3-3f72cb6086bd"
      },
      "outputs": [
        {
          "name": "stdout",
          "output_type": "stream",
          "text": [
            "-0.02587516459648293\n"
          ]
        }
      ],
      "source": [
        "print(df['ID'].corr(df['len_name']))"
      ]
    },
    {
      "cell_type": "code",
      "execution_count": 40,
      "metadata": {
        "colab": {
          "base_uri": "https://localhost:8080/",
          "height": 472
        },
        "id": "yvTU3lS1rLpz",
        "outputId": "76005be9-a85a-409c-93d5-adf8ef960fa2"
      },
      "outputs": [
        {
          "data": {
            "image/png": "[encoded data removed]",
            "text/plain": [
              "<Figure size 640x480 with 1 Axes>"
            ]
          },
          "metadata": {},
          "output_type": "display_data"
        }
      ],
      "source": [
        "sort_by_id=df.sort_values(by='ID')\n",
        "sort_by_name=df.sort_values(by='len_name')\n",
        "plt.plot(sort_by_id['ID'],sort_by_name['len_name'])\n",
        "plt.xlabel('ID')\n",
        "plt.ylabel('Length of Name')\n",
        "plt.title('ID vs Length of Name')\n",
        "plt.show()"
      ]
    },
    {
      "cell_type": "markdown",
      "metadata": {
        "id": "K2q1XRAaylLq"
      },
      "source": [
        "\n",
        "Which quartile of Name_Length has the longest average IDs?"
      ]
    },
    {
      "cell_type": "code",
      "execution_count": 41,
      "metadata": {
        "colab": {
          "base_uri": "https://localhost:8080/"
        },
        "id": "-2dqPEP7qj2j",
        "outputId": "a8ec2237-98ae-4164-b537-8057d8e78da9"
      },
      "outputs": [
        {
          "name": "stdout",
          "output_type": "stream",
          "text": [
            "Quartile with longest average ID: (5.0, 6.0]\n",
            "Average ID in this quartile: 55023.30434782609\n"
          ]
        },
        {
          "name": "stderr",
          "output_type": "stream",
          "text": [
            "C:\\Users\\boomi\\AppData\\Local\\Temp\\ipykernel_25668\\1127605253.py:1: FutureWarning: The default of observed=False is deprecated and will be changed to True in a future version of pandas. Pass observed=False to retain current behavior or observed=True to adopt the future default and silence this warning.\n",
            "  avg_id_by_quartile = df.groupby('Length_Quartile')['ID'].mean()\n"
          ]
        }
      ],
      "source": [
        "avg_id_by_quartile = df.groupby('Length_Quartile')['ID'].mean()\n",
        "max_quartile = avg_id_by_quartile.idxmax()\n",
        "max_avg_id = avg_id_by_quartile.max()\n",
        "print(f\"Quartile with longest average ID: {max_quartile}\")\n",
        "print(f\"Average ID in this quartile: {max_avg_id}\")\n"
      ]
    }
  ],
  "metadata": {
    "colab": {
      "provenance": []
    },
    "kernelspec": {
      "display_name": "pyai",
      "language": "python",
      "name": "python3"
    },
    "language_info": {
      "codemirror_mode": {
        "name": "ipython",
        "version": 3
      },
      "file_extension": ".py",
      "mimetype": "text/x-python",
      "name": "python",
      "nbconvert_exporter": "python",
      "pygments_lexer": "ipython3",
      "version": "3.12.11"
    }
  },
  "nbformat": 4,
  "nbformat_minor": 0
}
